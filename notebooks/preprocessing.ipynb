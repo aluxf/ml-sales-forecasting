{
 "cells": [
  {
   "attachments": {},
   "cell_type": "markdown",
   "metadata": {},
   "source": [
    "PREPROCESSING"
   ]
  },
  {
   "cell_type": "code",
   "execution_count": 2,
   "metadata": {},
   "outputs": [],
   "source": [
    "import pandas as pd\n",
    "import numpy as np\n",
    "import seaborn as sns\n",
    "import matplotlib as plt\n",
    "import datetime"
   ]
  },
  {
   "cell_type": "code",
   "execution_count": 4,
   "metadata": {},
   "outputs": [
    {
     "data": {
      "text/html": [
       "<div>\n",
       "<style scoped>\n",
       "    .dataframe tbody tr th:only-of-type {\n",
       "        vertical-align: middle;\n",
       "    }\n",
       "\n",
       "    .dataframe tbody tr th {\n",
       "        vertical-align: top;\n",
       "    }\n",
       "\n",
       "    .dataframe thead th {\n",
       "        text-align: right;\n",
       "    }\n",
       "</style>\n",
       "<table border=\"1\" class=\"dataframe\">\n",
       "  <thead>\n",
       "    <tr style=\"text-align: right;\">\n",
       "      <th></th>\n",
       "      <th>Date</th>\n",
       "      <th>Day</th>\n",
       "    </tr>\n",
       "  </thead>\n",
       "  <tbody>\n",
       "    <tr>\n",
       "      <th>0</th>\n",
       "      <td>2020-01-01</td>\n",
       "      <td>New Year Day</td>\n",
       "    </tr>\n",
       "    <tr>\n",
       "      <th>1</th>\n",
       "      <td>2020-01-06</td>\n",
       "      <td>Epiphany</td>\n",
       "    </tr>\n",
       "    <tr>\n",
       "      <th>2</th>\n",
       "      <td>2020-04-10</td>\n",
       "      <td>Good Friday</td>\n",
       "    </tr>\n",
       "    <tr>\n",
       "      <th>3</th>\n",
       "      <td>2020-04-12</td>\n",
       "      <td>Easter Day</td>\n",
       "    </tr>\n",
       "    <tr>\n",
       "      <th>4</th>\n",
       "      <td>2020-04-13</td>\n",
       "      <td>Easter Monday</td>\n",
       "    </tr>\n",
       "  </tbody>\n",
       "</table>\n",
       "</div>"
      ],
      "text/plain": [
       "         Date            Day\n",
       "0  2020-01-01   New Year Day\n",
       "1  2020-01-06       Epiphany\n",
       "2  2020-04-10    Good Friday\n",
       "3  2020-04-12     Easter Day\n",
       "4  2020-04-13  Easter Monday"
      ]
     },
     "execution_count": 4,
     "metadata": {},
     "output_type": "execute_result"
    }
   ],
   "source": [
    "raw_data = pd.read_csv('../csv/caspecoTrainingData.csv', header=0)\n",
    "holiday_data = pd.read_csv('../csv/swedish_holidays.csv', header=0)\n",
    "raw_data = raw_data.sort_values('Date').reset_index(drop=True)\n",
    "raw_data.head()\n",
    "holiday_data.head()"
   ]
  },
  {
   "cell_type": "code",
   "execution_count": 17,
   "metadata": {},
   "outputs": [],
   "source": [
    "def missing_dates(df):\n",
    "    date_counts = df[\"Date\"].value_counts()[df[\"Date\"].sort_values()].to_dict()\n",
    "    t = np.datetime_as_string(np.arange(datetime.datetime(2020,1,1), datetime.datetime(2023,1,4), datetime.timedelta(days=1)),unit=\"D\")\n",
    "    missing_dates = []\n",
    "    for date in t:\n",
    "        if date not in date_counts :\n",
    "            missing_dates.append(date)\n",
    "        if date_counts[date] < 3:\n",
    "            missing_dates.append(date)\n",
    "    return missing_dates\n",
    "\n",
    "def add_dates(lst, df):\n",
    "    \n",
    "    comp = np.sort(df['Company'].unique())\n",
    "\n",
    "    for date in lst:\n",
    "\n",
    "        new_df = df[df['Date'] == date]\n",
    "\n",
    "        for c in comp:\n",
    "\n",
    "            if c not in new_df['Company'].values:  \n",
    "                new_row = pd.DataFrame({\"Date\": [date], \"Company\": [c],\"Sales\": [-1]})\n",
    "                df = pd.concat([df, new_row], ignore_index=True)\n",
    "    \n",
    "    df = df.sort_values('Date').reset_index(drop=True)\n",
    "    return df\n",
    "\n",
    "def add_holidays(df, df_holiday):\n",
    "\n",
    "    if 'is_holiday' in df.columns:\n",
    "        return df\n",
    "    \n",
    "    df['is_holiday'] = 0\n",
    "\n",
    "    for date in df_holiday['Date']:\n",
    "        df.loc[df['Date'] == date,'is_holiday'] = 1\n",
    "\n",
    "    return df\n",
    "\n",
    "def add_weekdays(df):\n",
    "\n",
    "    if 'weekday' in df.columns:\n",
    "        return df\n",
    "    \n",
    "    df['weekday'] = 0\n",
    "\n",
    "    for i, date in enumerate(df['Date']):\n",
    "\n",
    "        df.at[i, 'weekday'] = datetime.datetime.strptime(date, \"%Y-%m-%d\").weekday()\n",
    "\n",
    "    return df\n",
    "\n",
    "def create_train_base_csv(df):\n",
    "\n",
    "    missing = missing_dates(df)\n",
    "    df_dates = add_dates(missing, df)\n",
    "    df_holiday = add_holidays(df_dates, holiday_data)\n",
    "    df_days = add_weekdays(df_holiday)\n",
    "    df_days.to_csv('../csv/train_base.csv', index=False)\n"
   ]
  }
 ],
 "metadata": {
  "kernelspec": {
   "display_name": "Python 3",
   "language": "python",
   "name": "python3"
  },
  "language_info": {
   "codemirror_mode": {
    "name": "ipython",
    "version": 3
   },
   "file_extension": ".py",
   "mimetype": "text/x-python",
   "name": "python",
   "nbconvert_exporter": "python",
   "pygments_lexer": "ipython3",
   "version": "3.9.7"
  },
  "orig_nbformat": 4,
  "vscode": {
   "interpreter": {
    "hash": "aee8b7b246df8f9039afb4144a1f6fd8d2ca17a180786b69acc140d282b71a49"
   }
  }
 },
 "nbformat": 4,
 "nbformat_minor": 2
}
