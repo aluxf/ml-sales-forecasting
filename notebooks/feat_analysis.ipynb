{
 "cells": [
  {
   "cell_type": "code",
   "execution_count": 2,
   "metadata": {},
   "outputs": [],
   "source": [
    "import pandas as pd\n",
    "from scipy.stats import pearsonr"
   ]
  },
  {
   "cell_type": "code",
   "execution_count": 14,
   "metadata": {},
   "outputs": [
    {
     "data": {
      "text/html": [
       "<div>\n",
       "<style scoped>\n",
       "    .dataframe tbody tr th:only-of-type {\n",
       "        vertical-align: middle;\n",
       "    }\n",
       "\n",
       "    .dataframe tbody tr th {\n",
       "        vertical-align: top;\n",
       "    }\n",
       "\n",
       "    .dataframe thead th {\n",
       "        text-align: right;\n",
       "    }\n",
       "</style>\n",
       "<table border=\"1\" class=\"dataframe\">\n",
       "  <thead>\n",
       "    <tr style=\"text-align: right;\">\n",
       "      <th></th>\n",
       "      <th>Variable</th>\n",
       "      <th>Correlation Coefficient</th>\n",
       "    </tr>\n",
       "  </thead>\n",
       "  <tbody>\n",
       "    <tr>\n",
       "      <th>0</th>\n",
       "      <td>is_holiday</td>\n",
       "      <td>-0.009367</td>\n",
       "    </tr>\n",
       "    <tr>\n",
       "      <th>1</th>\n",
       "      <td>weekday</td>\n",
       "      <td>0.131567</td>\n",
       "    </tr>\n",
       "    <tr>\n",
       "      <th>2</th>\n",
       "      <td>avg_weekday_sales</td>\n",
       "      <td>0.836449</td>\n",
       "    </tr>\n",
       "    <tr>\n",
       "      <th>3</th>\n",
       "      <td>avg_month_sales</td>\n",
       "      <td>0.815152</td>\n",
       "    </tr>\n",
       "    <tr>\n",
       "      <th>4</th>\n",
       "      <td>Precipitation</td>\n",
       "      <td>-0.002773</td>\n",
       "    </tr>\n",
       "    <tr>\n",
       "      <th>5</th>\n",
       "      <td>Temperature</td>\n",
       "      <td>-0.002653</td>\n",
       "    </tr>\n",
       "  </tbody>\n",
       "</table>\n",
       "</div>"
      ],
      "text/plain": [
       "            Variable  Correlation Coefficient\n",
       "0         is_holiday                -0.009367\n",
       "1            weekday                 0.131567\n",
       "2  avg_weekday_sales                 0.836449\n",
       "3    avg_month_sales                 0.815152\n",
       "4      Precipitation                -0.002773\n",
       "5        Temperature                -0.002653"
      ]
     },
     "execution_count": 14,
     "metadata": {},
     "output_type": "execute_result"
    }
   ],
   "source": [
    "'Correlation'\n",
    "\n",
    "complete_df = pd.read_csv(\"../csv/processed/all_features.csv\")\n",
    "\n",
    "complete_df = complete_df[complete_df['Sales'] != -1]\n",
    "\n",
    "cols = ['is_holiday', 'weekday', 'avg_weekday_sales', 'avg_month_sales', 'Precipitation', 'Temperature']\n",
    "\n",
    "corr_coef = []\n",
    "\n",
    "for col in cols:\n",
    "    coef, _ = pearsonr(complete_df[col], complete_df['Sales'])\n",
    "    corr_coef.append(coef)\n",
    "\n",
    "corr_df = pd.DataFrame({'Variable': cols, 'Correlation Coefficient': corr_coef})\n",
    "\n",
    "corr_df\n",
    "\n"
   ]
  }
 ],
 "metadata": {
  "kernelspec": {
   "display_name": "Python 3",
   "language": "python",
   "name": "python3"
  },
  "language_info": {
   "codemirror_mode": {
    "name": "ipython",
    "version": 3
   },
   "file_extension": ".py",
   "mimetype": "text/x-python",
   "name": "python",
   "nbconvert_exporter": "python",
   "pygments_lexer": "ipython3",
   "version": "3.9.7"
  },
  "orig_nbformat": 4,
  "vscode": {
   "interpreter": {
    "hash": "916dbcbb3f70747c44a77c7bcd40155683ae19c65e1c03b4aa3499c5328201f1"
   }
  }
 },
 "nbformat": 4,
 "nbformat_minor": 2
}
