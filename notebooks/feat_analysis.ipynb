{
 "cells": [
  {
   "cell_type": "code",
   "execution_count": 2,
   "metadata": {},
   "outputs": [],
   "source": [
    "import pandas as pd\n",
    "from scipy.stats import pearsonr"
   ]
  },
  {
   "cell_type": "code",
   "execution_count": 7,
   "metadata": {},
   "outputs": [
    {
     "data": {
      "text/html": [
       "<div>\n",
       "<style scoped>\n",
       "    .dataframe tbody tr th:only-of-type {\n",
       "        vertical-align: middle;\n",
       "    }\n",
       "\n",
       "    .dataframe tbody tr th {\n",
       "        vertical-align: top;\n",
       "    }\n",
       "\n",
       "    .dataframe thead th {\n",
       "        text-align: right;\n",
       "    }\n",
       "</style>\n",
       "<table border=\"1\" class=\"dataframe\">\n",
       "  <thead>\n",
       "    <tr style=\"text-align: right;\">\n",
       "      <th></th>\n",
       "      <th>Variable</th>\n",
       "      <th>Correlation Coefficient</th>\n",
       "    </tr>\n",
       "  </thead>\n",
       "  <tbody>\n",
       "    <tr>\n",
       "      <th>0</th>\n",
       "      <td>is_holiday</td>\n",
       "      <td>-0.009367</td>\n",
       "    </tr>\n",
       "    <tr>\n",
       "      <th>1</th>\n",
       "      <td>weekday</td>\n",
       "      <td>0.131567</td>\n",
       "    </tr>\n",
       "    <tr>\n",
       "      <th>2</th>\n",
       "      <td>avg_weekday_sales</td>\n",
       "      <td>0.836449</td>\n",
       "    </tr>\n",
       "    <tr>\n",
       "      <th>3</th>\n",
       "      <td>avg_month_sales</td>\n",
       "      <td>0.815152</td>\n",
       "    </tr>\n",
       "    <tr>\n",
       "      <th>4</th>\n",
       "      <td>Precipitation</td>\n",
       "      <td>-0.002773</td>\n",
       "    </tr>\n",
       "    <tr>\n",
       "      <th>5</th>\n",
       "      <td>Temperature</td>\n",
       "      <td>-0.002653</td>\n",
       "    </tr>\n",
       "  </tbody>\n",
       "</table>\n",
       "</div>"
      ],
      "text/plain": [
       "            Variable  Correlation Coefficient\n",
       "0         is_holiday                -0.009367\n",
       "1            weekday                 0.131567\n",
       "2  avg_weekday_sales                 0.836449\n",
       "3    avg_month_sales                 0.815152\n",
       "4      Precipitation                -0.002773\n",
       "5        Temperature                -0.002653"
      ]
     },
     "execution_count": 7,
     "metadata": {},
     "output_type": "execute_result"
    }
   ],
   "source": [
    "'Correlation for all datasets'\n",
    "\n",
    "complete_df = pd.read_csv(\"../csv/processed/all_features.csv\")\n",
    "average_df = pd.read_csv(\"../csv/processed/train_avg_sales.csv\")\n",
    "predict_df = pd.read_csv(\"../csv/processed/predicted_sales_rft.csv\")\n",
    "\n",
    "discard_df = complete_df[complete_df['Sales'] != -1]\n",
    "\n",
    "complete_df['Sales'] = average_df['Sales']\n",
    "average_df = complete_df.copy()\n",
    "\n",
    "complete_df['Sales'] = predict_df['Sales']\n",
    "predict_df = complete_df.copy()\n",
    "\n",
    "def calc_corr(df):\n",
    "\n",
    "    cols = [col for col in df.columns if (col != 'Sales' and col != 'Date' and col != 'Company')]\n",
    "\n",
    "    corr_coef = []\n",
    "\n",
    "    for col in cols:\n",
    "        coef, _ = pearsonr(df[col], df['Sales'])\n",
    "        corr_coef.append(coef)\n",
    "\n",
    "    corr_df = pd.DataFrame({'Variable': cols, 'Correlation Coefficient': corr_coef})\n",
    "\n",
    "    return corr_df\n",
    "\n",
    "corr = calc_corr(discard_df)\n",
    "\n",
    "corr"
   ]
  },
  {
   "attachments": {},
   "cell_type": "markdown",
   "metadata": {},
   "source": [
    "# Correlation Company 0"
   ]
  },
  {
   "cell_type": "code",
   "execution_count": 11,
   "metadata": {},
   "outputs": [
    {
     "name": "stdout",
     "output_type": "stream",
     "text": [
      "            Variable  Correlation Coefficient\n",
      "0         is_holiday                -0.041732\n",
      "1            weekday                 0.373323\n",
      "2  avg_weekday_sales                 0.751410\n",
      "3    avg_month_sales                 0.228162\n",
      "4      Precipitation                 0.004561\n",
      "5        Temperature                 0.157914\n",
      "\n",
      "            Variable  Correlation Coefficient\n",
      "0         is_holiday                -0.048704\n",
      "1            weekday                 0.288732\n",
      "2  avg_weekday_sales                 0.768281\n",
      "3    avg_month_sales                 0.225354\n",
      "4      Precipitation                -0.007869\n",
      "5        Temperature                 0.164310\n",
      "\n",
      "            Variable  Correlation Coefficient\n",
      "0         is_holiday                -0.039812\n",
      "1            weekday                 0.283388\n",
      "2  avg_weekday_sales                 0.764844\n",
      "3    avg_month_sales                 0.226531\n",
      "4      Precipitation                -0.009744\n",
      "5        Temperature                 0.168646\n"
     ]
    }
   ],
   "source": [
    "'Method 1 - Discard missing values'\n",
    "disc_0_df = discard_df[discard_df['Company'] == 0]\n",
    "corr_disc_0 = calc_corr(disc_0_df)\n",
    "\n",
    "'Method 2 - Calculate average values'\n",
    "avg_0_df = average_df[average_df['Company'] == 0]\n",
    "corr_avg_0 = calc_corr(avg_0_df)\n",
    "\n",
    "'Method 3 - Predict values with rft'\n",
    "pred_0_df = predict_df[predict_df['Company'] == 0]\n",
    "corr_pred_0 = calc_corr(pred_0_df)\n",
    "\n",
    "print(corr_disc_0)\n",
    "print()\n",
    "print(corr_avg_0)\n",
    "print()\n",
    "print(corr_pred_0)\n"
   ]
  },
  {
   "attachments": {},
   "cell_type": "markdown",
   "metadata": {},
   "source": [
    "# Correlation Company 1"
   ]
  },
  {
   "cell_type": "code",
   "execution_count": 12,
   "metadata": {},
   "outputs": [
    {
     "name": "stdout",
     "output_type": "stream",
     "text": [
      "            Variable  Correlation Coefficient\n",
      "0         is_holiday                 0.015308\n",
      "1            weekday                 0.358504\n",
      "2  avg_weekday_sales                 0.616566\n",
      "3    avg_month_sales                 0.301033\n",
      "4      Precipitation                -0.022446\n",
      "5        Temperature                -0.134457\n",
      "\n",
      "            Variable  Correlation Coefficient\n",
      "0         is_holiday                 0.010989\n",
      "1            weekday                 0.374925\n",
      "2  avg_weekday_sales                 0.620083\n",
      "3    avg_month_sales                 0.294791\n",
      "4      Precipitation                -0.022180\n",
      "5        Temperature                -0.139480\n",
      "\n",
      "            Variable  Correlation Coefficient\n",
      "0         is_holiday                 0.007985\n",
      "1            weekday                 0.380158\n",
      "2  avg_weekday_sales                 0.634771\n",
      "3    avg_month_sales                 0.291651\n",
      "4      Precipitation                -0.014123\n",
      "5        Temperature                -0.100106\n"
     ]
    }
   ],
   "source": [
    "'Method 1 - Discard missing values'\n",
    "disc_1_df = discard_df[discard_df['Company'] == 1]\n",
    "corr_disc_1 = calc_corr(disc_1_df)\n",
    "\n",
    "'Method 2 - Calculate average values'\n",
    "avg_1_df = average_df[average_df['Company'] == 1]\n",
    "corr_avg_1 = calc_corr(avg_1_df)\n",
    "\n",
    "'Method 3 - Predict values with rft'\n",
    "pred_1_df = predict_df[predict_df['Company'] == 1]\n",
    "corr_pred_1 = calc_corr(pred_1_df)\n",
    "\n",
    "print(corr_disc_1)\n",
    "print()\n",
    "print(corr_avg_1)\n",
    "print()\n",
    "print(corr_pred_1)"
   ]
  },
  {
   "attachments": {},
   "cell_type": "markdown",
   "metadata": {},
   "source": [
    "# Correlation Company 2"
   ]
  },
  {
   "cell_type": "code",
   "execution_count": 13,
   "metadata": {},
   "outputs": [
    {
     "name": "stdout",
     "output_type": "stream",
     "text": [
      "            Variable  Correlation Coefficient\n",
      "0         is_holiday                -0.068028\n",
      "1            weekday                 0.232455\n",
      "2  avg_weekday_sales                 0.414711\n",
      "3    avg_month_sales                 0.300759\n",
      "4      Precipitation                -0.005616\n",
      "5        Temperature                -0.055812\n",
      "\n",
      "            Variable  Correlation Coefficient\n",
      "0         is_holiday                -0.068028\n",
      "1            weekday                 0.232455\n",
      "2  avg_weekday_sales                 0.414711\n",
      "3    avg_month_sales                 0.300759\n",
      "4      Precipitation                -0.005616\n",
      "5        Temperature                -0.055812\n",
      "\n",
      "            Variable  Correlation Coefficient\n",
      "0         is_holiday                -0.068028\n",
      "1            weekday                 0.232455\n",
      "2  avg_weekday_sales                 0.414711\n",
      "3    avg_month_sales                 0.300759\n",
      "4      Precipitation                -0.005616\n",
      "5        Temperature                -0.055812\n"
     ]
    }
   ],
   "source": [
    "'Method 1 - Discard missing values'\n",
    "disc_2_df = discard_df[discard_df['Company'] == 2]\n",
    "corr_disc_2 = calc_corr(disc_2_df)\n",
    "\n",
    "'Method 2 - Calculate average values'\n",
    "avg_2_df = average_df[average_df['Company'] == 2]\n",
    "corr_avg_2 = calc_corr(avg_2_df)\n",
    "\n",
    "'Method 3 - Predict values with rft'\n",
    "pred_2_df = predict_df[predict_df['Company'] == 2]\n",
    "corr_pred_2 = calc_corr(pred_2_df)\n",
    "\n",
    "print(corr_disc_2)\n",
    "print()\n",
    "print(corr_avg_2)\n",
    "print()\n",
    "print(corr_pred_2)"
   ]
  }
 ],
 "metadata": {
  "kernelspec": {
   "display_name": "Python 3",
   "language": "python",
   "name": "python3"
  },
  "language_info": {
   "codemirror_mode": {
    "name": "ipython",
    "version": 3
   },
   "file_extension": ".py",
   "mimetype": "text/x-python",
   "name": "python",
   "nbconvert_exporter": "python",
   "pygments_lexer": "ipython3",
   "version": "3.11.1"
  },
  "orig_nbformat": 4,
  "vscode": {
   "interpreter": {
    "hash": "0cfe8d43d630cbfb4ef4f4b691660dfb998dae24a2a066f401b9bcfe5f6db147"
   }
  }
 },
 "nbformat": 4,
 "nbformat_minor": 2
}
