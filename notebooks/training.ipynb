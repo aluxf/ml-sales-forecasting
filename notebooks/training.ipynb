{
 "cells": [
  {
   "cell_type": "code",
   "execution_count": 184,
   "metadata": {},
   "outputs": [],
   "source": [
    "import pandas as pd\n",
    "from sklearn.model_selection import TimeSeriesSplit\n",
    "from sklearn.ensemble import RandomForestRegressor\n",
    "from sklearn.linear_model import LinearRegression\n",
    "from xgboost import XGBRegressor\n",
    "import datetime"
   ]
  },
  {
   "cell_type": "code",
   "execution_count": 164,
   "metadata": {},
   "outputs": [],
   "source": [
    "discard_df = pd.read_csv(\"../csv/datasets/complete_discard.csv\")\n",
    "average_df = pd.read_csv(\"../csv/datasets/complete_avg.csv\")\n",
    "predict_df = pd.read_csv(\"../csv/datasets/complete_pred.csv\")\n"
   ]
  },
  {
   "attachments": {},
   "cell_type": "markdown",
   "metadata": {},
   "source": [
    "# Random Forest Regression"
   ]
  },
  {
   "cell_type": "code",
   "execution_count": 143,
   "metadata": {},
   "outputs": [],
   "source": [
    "def rfr(df1, n_splits):\n",
    "    tscv = TimeSeriesSplit(n_splits)\n",
    "\n",
    "    df = df1.copy()\n",
    "\n",
    "    model = RandomForestRegressor(random_state=42)\n",
    "\n",
    "    df['Date'] = pd.to_datetime(df['Date']).values.astype(float)\n",
    "\n",
    "    X = df.drop(labels=['Sales'], axis=1)\n",
    "    y = df['Sales']\n",
    "\n",
    "    avg_score = []\n",
    "\n",
    "    for train_index, test_index in tscv.split(X):\n",
    "        X_train, X_test = X.iloc[train_index], X.iloc[test_index]\n",
    "        y_train, y_test = y.iloc[train_index], y.iloc[test_index]\n",
    "\n",
    "        model.fit(X_train, y_train)\n",
    "\n",
    "        y_pred = model.predict(X_test)\n",
    "\n",
    "        score = model.score(X_test, y_test)\n",
    "\n",
    "        avg_score.append(score)\n",
    "\n",
    "        # print(\"Score:\", score)\n",
    "    return sum(avg_score) / len(avg_score)\n"
   ]
  },
  {
   "cell_type": "code",
   "execution_count": 71,
   "metadata": {},
   "outputs": [
    {
     "name": "stdout",
     "output_type": "stream",
     "text": [
      "2\n",
      "3\n",
      "4\n",
      "5\n",
      "6\n",
      "7\n",
      "8\n",
      "9\n",
      "10\n",
      "11\n",
      "12\n",
      "13\n",
      "14\n",
      "15\n",
      "16\n",
      "17\n",
      "18\n",
      "19\n",
      "20\n"
     ]
    }
   ],
   "source": [
    "rfr_split_test = {}\n",
    "for n in range(2, 21):\n",
    "    print(n)\n",
    "    avg1 = rfr(discard_df, n)\n",
    "    avg2 = rfr(predict_df, n)\n",
    "    avg3 = rfr(average_df, n)\n",
    "    rfr_split_test[str(n)] = (avg1 + avg2 + avg3) / 3\n"
   ]
  },
  {
   "cell_type": "code",
   "execution_count": 72,
   "metadata": {},
   "outputs": [
    {
     "name": "stdout",
     "output_type": "stream",
     "text": [
      "{'2': 0.5202709874441691, '3': 0.6514927420565492, '4': 0.7377103338776653, '5': 0.66781123946202, '6': 0.6825581796300182, '7': 0.7628629878455776, '8': 0.7109230979263187, '9': 0.7952893346635758, '10': 0.7830776337262212, '11': 0.7122362481142853, '12': 0.79807658055344, '13': 0.7662192250094879, '14': 0.7655079051619378, '15': 0.7442026798178533, '16': 0.8083466286047217, '17': 0.8012846516598223, '18': 0.7513142527561012, '19': 0.8127589120441207, '20': 0.7732383084193918}\n"
     ]
    }
   ],
   "source": [
    "print(rfr_split_test)"
   ]
  },
  {
   "cell_type": "code",
   "execution_count": 73,
   "metadata": {},
   "outputs": [
    {
     "data": {
      "image/png": "[encoded data removed]",
      "text/plain": [
       "<Figure size 640x480 with 1 Axes>"
      ]
     },
     "metadata": {},
     "output_type": "display_data"
    }
   ],
   "source": [
    "import matplotlib.pylab as plt\n",
    "\n",
    "lists = (rfr_split_test.items()) # sorted by key, return a list of tuples\n",
    "\n",
    "x, y = zip(*lists) # unpack a list of pairs into two tuples\n",
    "\n",
    "plt.plot(x, y)\n",
    "plt.show()"
   ]
  },
  {
   "cell_type": "code",
   "execution_count": 182,
   "metadata": {},
   "outputs": [
    {
     "name": "stdout",
     "output_type": "stream",
     "text": [
      "0.8218147708237907\n"
     ]
    }
   ],
   "source": [
    "splits = 19\n",
    "\n",
    "#print(rfr(discard_df, splits))\n",
    "\n",
    "print(rfr(average_df, splits))\n",
    "\n",
    "#print(rfr(predict_df, splits))\n"
   ]
  },
  {
   "attachments": {},
   "cell_type": "markdown",
   "metadata": {},
   "source": [
    "# Linear Regression"
   ]
  },
  {
   "cell_type": "code",
   "execution_count": 75,
   "metadata": {},
   "outputs": [],
   "source": [
    "def lin_reg(df1, n_splits):\n",
    "\n",
    "    df = df1.copy()\n",
    "\n",
    "    tscv = TimeSeriesSplit(n_splits)\n",
    "\n",
    "    model = LinearRegression()\n",
    "\n",
    "    df['Date'] = pd.to_datetime(df['Date']).values.astype(float)\n",
    "\n",
    "    X = df.drop(labels=['Sales'], axis=1)\n",
    "    y = df['Sales']\n",
    "\n",
    "    avg_score = []\n",
    "\n",
    "    for train_index, test_index in tscv.split(X):\n",
    "        X_train, X_test = X.iloc[train_index], X.iloc[test_index]\n",
    "        y_train, y_test = y.iloc[train_index], y.iloc[test_index]\n",
    "\n",
    "        model.fit(X_train, y_train)\n",
    "\n",
    "        y_pred = model.predict(X_test)\n",
    "\n",
    "        score = model.score(X_test, y_test)\n",
    "\n",
    "        avg_score.append(score)\n",
    "\n",
    "        # print(\"Score:\", score)\n",
    "\n",
    "    return sum(avg_score) / len(avg_score)"
   ]
  },
  {
   "cell_type": "code",
   "execution_count": 79,
   "metadata": {},
   "outputs": [
    {
     "name": "stdout",
     "output_type": "stream",
     "text": [
      "2\n",
      "3\n",
      "4\n",
      "5\n",
      "6\n",
      "7\n",
      "8\n",
      "9\n",
      "10\n",
      "11\n",
      "12\n",
      "13\n",
      "14\n",
      "15\n",
      "16\n",
      "17\n",
      "18\n",
      "19\n",
      "20\n"
     ]
    }
   ],
   "source": [
    "linreg_split_test = {}\n",
    "for n in range(2, 21):\n",
    "    print(n)\n",
    "    avg1 = lin_reg(discard_df, n)\n",
    "    avg2 = lin_reg(average_df, n)\n",
    "    avg3 = lin_reg(predict_df, n)\n",
    "    #print(avg)\n",
    "    linreg_split_test[str(n)] = (avg1 + avg2 + avg3) / 3"
   ]
  },
  {
   "cell_type": "code",
   "execution_count": 80,
   "metadata": {},
   "outputs": [
    {
     "name": "stdout",
     "output_type": "stream",
     "text": [
      "{'2': 0.6176455619066914, '3': 0.6590903351053039, '4': 0.681173563565022, '5': 0.7165679195241594, '6': 0.7312341571072835, '7': 0.7228230168625488, '8': 0.7359166037162165, '9': 0.7446200735035652, '10': 0.7453049253304483, '11': 0.7581903343490369, '12': 0.7625082112208204, '13': 0.7562156871213018, '14': 0.7566031169643134, '15': 0.7543559377421248, '16': 0.7670385773772258, '17': 0.7629220855439947, '18': 0.7719890232227556, '19': 0.765852072159997, '20': 0.7711294294554968}\n",
      "18\n"
     ]
    }
   ],
   "source": [
    "print(linreg_split_test)\n",
    "print(max(linreg_split_test, key=linreg_split_test.get))\n"
   ]
  },
  {
   "cell_type": "code",
   "execution_count": 81,
   "metadata": {},
   "outputs": [
    {
     "data": {
      "image/png": "[encoded data removed]",
      "text/plain": [
       "<Figure size 640x480 with 1 Axes>"
      ]
     },
     "metadata": {},
     "output_type": "display_data"
    }
   ],
   "source": [
    "import matplotlib.pylab as plt\n",
    "\n",
    "lists = (linreg_split_test.items()) # sorted by key, return a list of tuples\n",
    "\n",
    "x, y = zip(*lists) # unpack a list of pairs into two tuples\n",
    "\n",
    "plt.plot(x, y)\n",
    "plt.show()"
   ]
  },
  {
   "cell_type": "code",
   "execution_count": 92,
   "metadata": {},
   "outputs": [
    {
     "name": "stdout",
     "output_type": "stream",
     "text": [
      "0.7555705726754542\n",
      "0.7680152120879747\n",
      "0.7639388488990319\n"
     ]
    }
   ],
   "source": [
    "splits = 12\n",
    "\n",
    "print(lin_reg(discard_df, splits))\n",
    "\n",
    "print(lin_reg(average_df, splits))\n",
    "\n",
    "print(lin_reg(predict_df, splits))"
   ]
  },
  {
   "attachments": {},
   "cell_type": "markdown",
   "metadata": {},
   "source": [
    "# XGBoost Regressor"
   ]
  },
  {
   "cell_type": "code",
   "execution_count": 83,
   "metadata": {},
   "outputs": [],
   "source": [
    "def xgb_reg(df1, n_splits):\n",
    "\n",
    "    df = df1.copy()\n",
    "\n",
    "    tscv = TimeSeriesSplit(n_splits)\n",
    "\n",
    "    model = XGBRegressor(random_state=42)\n",
    "\n",
    "    df['Date'] = pd.to_datetime(df['Date']).values.astype(float)\n",
    "\n",
    "    X = df.drop(labels=['Sales'], axis=1)\n",
    "    y = df['Sales']\n",
    "\n",
    "    avg_score = []\n",
    "\n",
    "    for train_index, test_index in tscv.split(X):\n",
    "        X_train, X_test = X.iloc[train_index], X.iloc[test_index]\n",
    "        y_train, y_test = y.iloc[train_index], y.iloc[test_index]\n",
    "\n",
    "        model.fit(X_train, y_train)\n",
    "\n",
    "        y_pred = model.predict(X_test)\n",
    "\n",
    "        score = model.score(X_test, y_test)\n",
    "\n",
    "        avg_score.append(score)\n",
    "\n",
    "        # print(\"Score:\", score)\n",
    "\n",
    "    return sum(avg_score) / len(avg_score)"
   ]
  },
  {
   "cell_type": "code",
   "execution_count": 87,
   "metadata": {},
   "outputs": [
    {
     "name": "stdout",
     "output_type": "stream",
     "text": [
      "2\n",
      "3\n",
      "4\n",
      "5\n",
      "6\n",
      "7\n",
      "8\n",
      "9\n",
      "10\n",
      "11\n",
      "12\n",
      "13\n",
      "14\n",
      "15\n",
      "16\n",
      "17\n",
      "18\n",
      "19\n",
      "20\n"
     ]
    }
   ],
   "source": [
    "xgb_split_test = {}\n",
    "for n in range(2, 21):\n",
    "    print(n)\n",
    "    avg1 = xgb_reg(discard_df, n)\n",
    "    avg2 = xgb_reg(average_df, n)\n",
    "    avg3 = xgb_reg(predict_df, n)\n",
    "    #print(avg)\n",
    "    xgb_split_test[str(n)] = (avg1 + avg2 + avg3) / 3"
   ]
  },
  {
   "cell_type": "code",
   "execution_count": 88,
   "metadata": {},
   "outputs": [
    {
     "name": "stdout",
     "output_type": "stream",
     "text": [
      "{'2': 0.455093768884195, '3': 0.5250484239680234, '4': 0.7268776881140275, '5': 0.6118855487897834, '6': 0.6845094378853798, '7': 0.7054771100105093, '8': 0.6902946667489216, '9': 0.7930460466382653, '10': 0.789228033807763, '11': 0.6947418749999139, '12': 0.789680895704798, '13': 0.7758315706237765, '14': 0.7729095734855015, '15': 0.7281600959066662, '16': 0.795341504660231, '17': 0.7860638657087583, '18': 0.7804807591804787, '19': 0.8049125037009931, '20': 0.7730588485744443}\n"
     ]
    }
   ],
   "source": [
    "print(xgb_split_test)\n",
    "#print(max(xgb_split_test, key=xgb_split_test.get))"
   ]
  },
  {
   "cell_type": "code",
   "execution_count": 89,
   "metadata": {},
   "outputs": [
    {
     "data": {
      "image/png": "[encoded data removed]",
      "text/plain": [
       "<Figure size 640x480 with 1 Axes>"
      ]
     },
     "metadata": {},
     "output_type": "display_data"
    }
   ],
   "source": [
    "import matplotlib.pylab as plt\n",
    "\n",
    "lists = (xgb_split_test.items()) # sorted by key, return a list of tuples\n",
    "\n",
    "x, y = zip(*lists) # unpack a list of pairs into two tuples\n",
    "\n",
    "plt.plot(x, y)\n",
    "plt.show()"
   ]
  },
  {
   "cell_type": "code",
   "execution_count": 181,
   "metadata": {},
   "outputs": [
    {
     "name": "stdout",
     "output_type": "stream",
     "text": [
      "0.8271971039192006\n"
     ]
    }
   ],
   "source": [
    "splits = 19\n",
    "\n",
    "#print(xgb_reg(discard_df, splits))\n",
    "\n",
    "print(xgb_reg(average_df, splits))\n",
    "\n",
    "#print(xgb_reg(predict_df, splits))"
   ]
  },
  {
   "cell_type": "code",
   "execution_count": null,
   "metadata": {},
   "outputs": [],
   "source": [
    "# disc_0_df = discard_df.loc[discard_df['Company'] == 0].reset_index(drop=True)\n",
    "# avg_0_df = average_df.loc[average_df['Company'] == 0].reset_index(drop=True)\n",
    "# pred_0_df = predict_df.loc[predict_df['Company'] == 0].reset_index(drop=True)\n",
    "\n",
    "# disc_1_df = discard_df.loc[discard_df['Company'] == 1].reset_index(drop=True)\n",
    "# avg_1_df = average_df.loc[average_df['Company'] == 1].reset_index(drop=True)\n",
    "# pred_1_df = predict_df.loc[predict_df['Company'] == 1].reset_index(drop=True)\n",
    "\n",
    "# disc_2_df = discard_df.loc[discard_df['Company'] == 2].reset_index(drop=True)\n",
    "# avg_2_df = average_df.loc[average_df['Company'] == 2].reset_index(drop=True)\n",
    "# pred_2_df = predict_df.loc[predict_df['Company'] == 2].reset_index(drop=True)"
   ]
  },
  {
   "cell_type": "markdown",
   "metadata": {},
   "source": [
    "# Train test the selected model"
   ]
  },
  {
   "cell_type": "code",
   "execution_count": 213,
   "metadata": {},
   "outputs": [
    {
     "name": "stdout",
     "output_type": "stream",
     "text": [
      "Score: 0.9188760416103005\n"
     ]
    }
   ],
   "source": [
    "picked_df = discard_df\n",
    "\n",
    "split_date = datetime.date(2022,10,3)\n",
    "\n",
    "target = picked_df[(pd.to_datetime(picked_df[\"Date\"]).dt.date > split_date)].copy()\n",
    "\n",
    "train = picked_df[(pd.to_datetime(picked_df[\"Date\"]).dt.date <= split_date)].copy()\n",
    "\n",
    "model = RandomForestRegressor(random_state = 42)\n",
    "\n",
    "train['Date'] = pd.to_datetime(train['Date']).values.astype(float)\n",
    "target['Date'] = pd.to_datetime(target['Date']).values.astype(float)\n",
    "\n",
    "X_train = train.drop(labels=['Sales'], axis=1)\n",
    "y_train = train['Sales']\n",
    "\n",
    "X_test = target.drop(labels=['Sales'], axis=1)\n",
    "y_test = target['Sales']\n",
    "\n",
    "model.fit(X_train, y_train)\n",
    "\n",
    "y_pred = model.predict(X_test)\n",
    "\n",
    "score = model.score(X_test, y_test)\n",
    "\n",
    "print('Score:', score)"
   ]
  }
 ],
 "metadata": {
  "kernelspec": {
   "display_name": "Python 3",
   "language": "python",
   "name": "python3"
  },
  "language_info": {
   "codemirror_mode": {
    "name": "ipython",
    "version": 3
   },
   "file_extension": ".py",
   "mimetype": "text/x-python",
   "name": "python",
   "nbconvert_exporter": "python",
   "pygments_lexer": "ipython3",
   "version": "3.11.1"
  },
  "orig_nbformat": 4,
  "vscode": {
   "interpreter": {
    "hash": "0cfe8d43d630cbfb4ef4f4b691660dfb998dae24a2a066f401b9bcfe5f6db147"
   }
  }
 },
 "nbformat": 4,
 "nbformat_minor": 2
}
