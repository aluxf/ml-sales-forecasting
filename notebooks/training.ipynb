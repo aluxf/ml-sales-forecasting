{
 "cells": [
  {
   "cell_type": "code",
   "execution_count": 14,
   "metadata": {},
   "outputs": [],
   "source": [
    "import pandas as pd\n",
    "from sklearn.model_selection import TimeSeriesSplit\n",
    "from sklearn.ensemble import RandomForestRegressor\n",
    "import numpy as np"
   ]
  },
  {
   "cell_type": "code",
   "execution_count": 6,
   "metadata": {},
   "outputs": [],
   "source": [
    "discard_df = pd.read_csv(\"../csv/datasets/complete_discard.csv\")\n",
    "average_df = pd.read_csv(\"../csv/datasets/complete_avg.csv\")\n",
    "predict_df = pd.read_csv(\"../csv/datasets/complete_pred.csv\")"
   ]
  },
  {
   "attachments": {},
   "cell_type": "markdown",
   "metadata": {},
   "source": [
    "# Random Forest Regression"
   ]
  },
  {
   "attachments": {},
   "cell_type": "markdown",
   "metadata": {},
   "source": [
    "### Discarded values dataframe"
   ]
  },
  {
   "cell_type": "code",
   "execution_count": 20,
   "metadata": {},
   "outputs": [
    {
     "name": "stdout",
     "output_type": "stream",
     "text": [
      "Score: 0.8757500440712835\n",
      "Score: 0.8879190134994943\n",
      "Score: 0.9102339918998239\n",
      "Score: 0.9560618040772065\n",
      "Score: 0.6551268448181831\n",
      "Score: 0.5773091115163529\n",
      "Score: 0.7534370574213995\n",
      "Score: 0.8634895291091704\n",
      "Score: 0.3052356068242593\n",
      "Score: 0.9162110365413717\n",
      "Avg Score: 0.7700774039778545\n"
     ]
    }
   ],
   "source": [
    "n_splits = 10\n",
    "\n",
    "tscv = TimeSeriesSplit(n_splits)\n",
    "\n",
    "model = RandomForestRegressor(random_state=42)\n",
    "\n",
    "discard_df['Date'] = pd.to_datetime(discard_df['Date']).values.astype(float)\n",
    "\n",
    "X = discard_df.drop(labels=['Sales'], axis=1)\n",
    "y = discard_df['Sales']\n",
    "\n",
    "avg_score = []\n",
    "\n",
    "for train_index, test_index in tscv.split(X):\n",
    "    X_train, X_test = X.iloc[train_index], X.iloc[test_index]\n",
    "    y_train, y_test = y.iloc[train_index], y.iloc[test_index]\n",
    "\n",
    "    model.fit(X_train, y_train)\n",
    "\n",
    "    y_pred = model.predict(X_test)\n",
    "\n",
    "    score = model.score(X_test, y_test)\n",
    "\n",
    "    avg_score.append(score)\n",
    "\n",
    "    print(\"Score:\", score)\n",
    "\n",
    "print('Avg Score:', sum(avg_score) / len(avg_score))"
   ]
  }
 ],
 "metadata": {
  "kernelspec": {
   "display_name": "Python 3",
   "language": "python",
   "name": "python3"
  },
  "language_info": {
   "codemirror_mode": {
    "name": "ipython",
    "version": 3
   },
   "file_extension": ".py",
   "mimetype": "text/x-python",
   "name": "python",
   "nbconvert_exporter": "python",
   "pygments_lexer": "ipython3",
   "version": "3.9.7"
  },
  "orig_nbformat": 4
 },
 "nbformat": 4,
 "nbformat_minor": 2
}
