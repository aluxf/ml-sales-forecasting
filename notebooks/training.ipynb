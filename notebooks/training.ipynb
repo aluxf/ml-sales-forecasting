{
 "cells": [
  {
   "cell_type": "code",
   "execution_count": 13,
   "metadata": {},
   "outputs": [],
   "source": [
    "import pandas as pd\n",
    "from sklearn.model_selection import TimeSeriesSplit\n",
    "from sklearn.ensemble import RandomForestRegressor\n",
    "from sklearn.linear_model import LinearRegression\n",
    "from xgboost import XGBRegressor"
   ]
  },
  {
   "cell_type": "code",
   "execution_count": 14,
   "metadata": {},
   "outputs": [],
   "source": [
    "discard_df = pd.read_csv(\"../csv/datasets/complete_discard.csv\")\n",
    "average_df = pd.read_csv(\"../csv/datasets/complete_avg.csv\")\n",
    "predict_df = pd.read_csv(\"../csv/datasets/complete_pred.csv\")"
   ]
  },
  {
   "attachments": {},
   "cell_type": "markdown",
   "metadata": {},
   "source": [
    "# Random Forest Regression"
   ]
  },
  {
   "cell_type": "code",
   "execution_count": 15,
   "metadata": {},
   "outputs": [],
   "source": [
    "def rfr(df, n_splits):\n",
    "    tscv = TimeSeriesSplit(n_splits)\n",
    "\n",
    "    model = RandomForestRegressor(random_state=42)\n",
    "\n",
    "    df['Date'] = pd.to_datetime(df['Date']).values.astype(float)\n",
    "\n",
    "    X = df.drop(labels=['Sales'], axis=1)\n",
    "    y = df['Sales']\n",
    "\n",
    "    avg_score = []\n",
    "\n",
    "    for train_index, test_index in tscv.split(X):\n",
    "        X_train, X_test = X.iloc[train_index], X.iloc[test_index]\n",
    "        y_train, y_test = y.iloc[train_index], y.iloc[test_index]\n",
    "\n",
    "        model.fit(X_train, y_train)\n",
    "\n",
    "        y_pred = model.predict(X_test)\n",
    "\n",
    "        score = model.score(X_test, y_test)\n",
    "\n",
    "        avg_score.append(score)\n",
    "\n",
    "        # print(\"Score:\", score)\n",
    "    return sum(avg_score) / len(avg_score)\n"
   ]
  },
  {
   "cell_type": "code",
   "execution_count": 16,
   "metadata": {},
   "outputs": [
    {
     "name": "stdout",
     "output_type": "stream",
     "text": [
      "2\n",
      "0.578126471920388\n",
      "3\n",
      "0.6484014248413773\n",
      "4\n",
      "0.7283821173882454\n",
      "5\n",
      "0.6826728882329715\n",
      "6\n",
      "0.719407212494452\n",
      "7\n",
      "0.7601387435340914\n",
      "8\n",
      "0.6900027002039644\n",
      "9\n",
      "0.7873922676124545\n",
      "10\n",
      "0.7700774039778545\n",
      "11\n",
      "0.7425826319705464\n",
      "12\n",
      "0.799667461563672\n",
      "13\n",
      "0.775234263071609\n",
      "14\n",
      "0.7575244059228997\n",
      "15\n",
      "0.6520810521934656\n",
      "16\n",
      "0.8072842710889779\n",
      "17\n",
      "0.7956217210466384\n",
      "18\n",
      "0.8119940189644941\n",
      "19\n",
      "0.7975710936940923\n",
      "20\n",
      "0.7498346738739861\n",
      "{'2': 0.578126471920388, '3': 0.6484014248413773, '4': 0.7283821173882454, '5': 0.6826728882329715, '6': 0.719407212494452, '7': 0.7601387435340914, '8': 0.6900027002039644, '9': 0.7873922676124545, '10': 0.7700774039778545, '11': 0.7425826319705464, '12': 0.799667461563672, '13': 0.775234263071609, '14': 0.7575244059228997, '15': 0.6520810521934656, '16': 0.8072842710889779, '17': 0.7956217210466384, '18': 0.8119940189644941, '19': 0.7975710936940923, '20': 0.7498346738739861}\n"
     ]
    }
   ],
   "source": [
    "rfr_split_test = {}\n",
    "for n in range(2, 21):\n",
    "    print(n)\n",
    "    avg = rfr(discard_df, n)\n",
    "    print(avg)\n",
    "    rfr_split_test[str(n)] = avg\n"
   ]
  },
  {
   "cell_type": "code",
   "execution_count": 21,
   "metadata": {},
   "outputs": [
    {
     "name": "stdout",
     "output_type": "stream",
     "text": [
      "{'2': 0.578126471920388, '3': 0.6484014248413773, '4': 0.7283821173882454, '5': 0.6826728882329715, '6': 0.719407212494452, '7': 0.7601387435340914, '8': 0.6900027002039644, '9': 0.7873922676124545, '10': 0.7700774039778545, '11': 0.7425826319705464, '12': 0.799667461563672, '13': 0.775234263071609, '14': 0.7575244059228997, '15': 0.6520810521934656, '16': 0.8072842710889779, '17': 0.7956217210466384, '18': 0.8119940189644941, '19': 0.7975710936940923, '20': 0.7498346738739861}\n"
     ]
    }
   ],
   "source": [
    "print(rfr_split_test)"
   ]
  },
  {
   "cell_type": "code",
   "execution_count": 20,
   "metadata": {},
   "outputs": [
    {
     "name": "stdout",
     "output_type": "stream",
     "text": [
      "0.799667461563672\n",
      "0.8011692623053106\n",
      "0.7933930177913372\n"
     ]
    }
   ],
   "source": [
    "splits = 12\n",
    "\n",
    "print(rfr(discard_df, splits))\n",
    "\n",
    "print(rfr(average_df, splits))\n",
    "\n",
    "print(rfr(predict_df, splits))"
   ]
  },
  {
   "attachments": {},
   "cell_type": "markdown",
   "metadata": {},
   "source": [
    "# Linear Regression"
   ]
  },
  {
   "cell_type": "code",
   "execution_count": 18,
   "metadata": {},
   "outputs": [],
   "source": [
    "def lin_reg(df, n_splits):\n",
    "    tscv = TimeSeriesSplit(n_splits)\n",
    "\n",
    "    model = LinearRegression()\n",
    "\n",
    "    df['Date'] = pd.to_datetime(df['Date']).values.astype(float)\n",
    "\n",
    "    X = df.drop(labels=['Sales'], axis=1)\n",
    "    y = df['Sales']\n",
    "\n",
    "    avg_score = []\n",
    "\n",
    "    for train_index, test_index in tscv.split(X):\n",
    "        X_train, X_test = X.iloc[train_index], X.iloc[test_index]\n",
    "        y_train, y_test = y.iloc[train_index], y.iloc[test_index]\n",
    "\n",
    "        model.fit(X_train, y_train)\n",
    "\n",
    "        y_pred = model.predict(X_test)\n",
    "\n",
    "        score = model.score(X_test, y_test)\n",
    "\n",
    "        avg_score.append(score)\n",
    "\n",
    "        # print(\"Score:\", score)\n",
    "\n",
    "    print('Avg Score:', sum(avg_score) / len(avg_score))"
   ]
  },
  {
   "cell_type": "code",
   "execution_count": 19,
   "metadata": {},
   "outputs": [
    {
     "name": "stdout",
     "output_type": "stream",
     "text": [
      "Avg Score: 0.7452236748362817\n",
      "Avg Score: 0.7479015232868157\n",
      "Avg Score: 0.7427895778682461\n"
     ]
    }
   ],
   "source": [
    "splits = 10\n",
    "\n",
    "lin_reg(discard_df, splits)\n",
    "\n",
    "lin_reg(average_df, splits)\n",
    "\n",
    "lin_reg(predict_df, splits)"
   ]
  },
  {
   "attachments": {},
   "cell_type": "markdown",
   "metadata": {},
   "source": [
    "# XGBoost Regressor"
   ]
  },
  {
   "cell_type": "code",
   "execution_count": 61,
   "metadata": {},
   "outputs": [],
   "source": [
    "def xgb_reg(df, n_splits):\n",
    "    tscv = TimeSeriesSplit(n_splits)\n",
    "\n",
    "    model = XGBRegressor(random_state=42)\n",
    "\n",
    "    df['Date'] = pd.to_datetime(df['Date']).values.astype(float)\n",
    "\n",
    "    X = df.drop(labels=['Sales'], axis=1)\n",
    "    y = df['Sales']\n",
    "\n",
    "    avg_score = []\n",
    "\n",
    "    for train_index, test_index in tscv.split(X):\n",
    "        X_train, X_test = X.iloc[train_index], X.iloc[test_index]\n",
    "        y_train, y_test = y.iloc[train_index], y.iloc[test_index]\n",
    "\n",
    "        model.fit(X_train, y_train)\n",
    "\n",
    "        y_pred = model.predict(X_test)\n",
    "\n",
    "        score = model.score(X_test, y_test)\n",
    "\n",
    "        avg_score.append(score)\n",
    "\n",
    "        # print(\"Score:\", score)\n",
    "\n",
    "    print('Avg Score:', sum(avg_score) / len(avg_score))"
   ]
  },
  {
   "cell_type": "code",
   "execution_count": 62,
   "metadata": {},
   "outputs": [
    {
     "name": "stdout",
     "output_type": "stream",
     "text": [
      "Avg Score: 0.8043508460254354\n",
      "Avg Score: 0.7885673679237818\n",
      "Avg Score: 0.7761244731651772\n"
     ]
    }
   ],
   "source": [
    "splits = 12\n",
    "\n",
    "xgb_reg(discard_df, splits)\n",
    "\n",
    "xgb_reg(average_df, splits)\n",
    "\n",
    "xgb_reg(predict_df, splits)"
   ]
  }
 ],
 "metadata": {
  "kernelspec": {
   "display_name": "Python 3",
   "language": "python",
   "name": "python3"
  },
  "language_info": {
   "codemirror_mode": {
    "name": "ipython",
    "version": 3
   },
   "file_extension": ".py",
   "mimetype": "text/x-python",
   "name": "python",
   "nbconvert_exporter": "python",
   "pygments_lexer": "ipython3",
   "version": "3.11.1"
  },
  "orig_nbformat": 4,
  "vscode": {
   "interpreter": {
    "hash": "0cfe8d43d630cbfb4ef4f4b691660dfb998dae24a2a066f401b9bcfe5f6db147"
   }
  }
 },
 "nbformat": 4,
 "nbformat_minor": 2
}
