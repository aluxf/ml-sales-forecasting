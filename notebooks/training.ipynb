{
 "cells": [
  {
   "cell_type": "code",
   "execution_count": 2,
   "metadata": {},
   "outputs": [],
   "source": [
    "import pandas as pd\n",
    "from sklearn.model_selection import TimeSeriesSplit\n",
    "from sklearn.ensemble import RandomForestRegressor\n",
    "import numpy as np"
   ]
  },
  {
   "cell_type": "code",
   "execution_count": 3,
   "metadata": {},
   "outputs": [],
   "source": [
    "discard_df = pd.read_csv(\"../csv/datasets/complete_discard.csv\")\n",
    "average_df = pd.read_csv(\"../csv/datasets/complete_avg.csv\")\n",
    "predict_df = pd.read_csv(\"../csv/datasets/complete_pred.csv\")"
   ]
  },
  {
   "attachments": {},
   "cell_type": "markdown",
   "metadata": {},
   "source": [
    "# Random Forest Regression"
   ]
  },
  {
   "attachments": {},
   "cell_type": "markdown",
   "metadata": {},
   "source": [
    "### Discarded values dataframe"
   ]
  },
  {
   "cell_type": "code",
   "execution_count": 8,
   "metadata": {},
   "outputs": [
    {
     "name": "stdout",
     "output_type": "stream",
     "text": [
      "Avg Score: 0.7498346738739861\n",
      "Avg Score: 0.8088685257261613\n",
      "Avg Score: 0.6746657585402648\n",
      "Avg Score: 0.8151998987644341\n",
      "Avg Score: 0.7656237401942511\n",
      "{'2': 0.578126471920388, '3': 0.6484014248413773, '4': 0.7283821173882454, '5': 0.6826728882329715, '6': 0.719407212494452, '7': 0.7601387435340914, '8': 0.6900027002039644, '9': 0.7873922676124545, '10': 0.7700774039778545, '11': 0.7425826319705464, '12': 0.799667461563672, '13': 0.775234263071609, '14': 0.7575244059228997, '15': 0.6520810521934656, '16': 0.8072842710889779, '17': 0.7956217210466384, '18': 0.8119940189644941, '19': 0.7975710936940923, '20': 0.7498346738739861, '21': 0.8088685257261613, '22': 0.6746657585402648, '23': 0.8151998987644341, '24': 0.7656237401942511}\n"
     ]
    }
   ],
   "source": [
    "#results = {}\n",
    "\n",
    "for n in range(20, 25):\n",
    "\n",
    "    n_splits = n\n",
    "\n",
    "    tscv = TimeSeriesSplit(n_splits)\n",
    "\n",
    "    model = RandomForestRegressor(random_state=42)\n",
    "\n",
    "    discard_df['Date'] = pd.to_datetime(discard_df['Date']).values.astype(float)\n",
    "\n",
    "    X = discard_df.drop(labels=['Sales'], axis=1)\n",
    "    y = discard_df['Sales']\n",
    "\n",
    "    avg_score = []\n",
    "\n",
    "    for train_index, test_index in tscv.split(X):\n",
    "        X_train, X_test = X.iloc[train_index], X.iloc[test_index]\n",
    "        y_train, y_test = y.iloc[train_index], y.iloc[test_index]\n",
    "\n",
    "        model.fit(X_train, y_train)\n",
    "\n",
    "        y_pred = model.predict(X_test)\n",
    "\n",
    "        score = model.score(X_test, y_test)\n",
    "\n",
    "        avg_score.append(score)\n",
    "\n",
    "        #print(\"Score:\", score)\n",
    "\n",
    "    average = sum(avg_score) / len(avg_score)\n",
    "    print('Avg Score:', average)\n",
    "    results[str(n)] = average\n",
    "\n",
    "print(results)"
   ]
  },
  {
   "cell_type": "code",
   "execution_count": 11,
   "metadata": {},
   "outputs": [
    {
     "name": "stdout",
     "output_type": "stream",
     "text": [
      "{'2': 0.578126471920388, '3': 0.6484014248413773, '4': 0.7283821173882454, '5': 0.6826728882329715, '6': 0.719407212494452, '7': 0.7601387435340914, '8': 0.6900027002039644, '9': 0.7873922676124545, '10': 0.7700774039778545, '11': 0.7425826319705464, '12': 0.799667461563672, '13': 0.775234263071609, '14': 0.7575244059228997, '15': 0.6520810521934656, '16': 0.8072842710889779, '17': 0.7956217210466384, '18': 0.8119940189644941, '19': 0.7975710936940923, '20': 0.7498346738739861, '21': 0.8088685257261613, '22': 0.6746657585402648, '23': 0.8151998987644341, '24': 0.7656237401942511}\n"
     ]
    }
   ],
   "source": [
    "#n_splits_rfr = results\n",
    "print(n_splits_rfr)"
   ]
  }
 ],
 "metadata": {
  "kernelspec": {
   "display_name": "Python 3",
   "language": "python",
   "name": "python3"
  },
  "language_info": {
   "codemirror_mode": {
    "name": "ipython",
    "version": 3
   },
   "file_extension": ".py",
   "mimetype": "text/x-python",
   "name": "python",
   "nbconvert_exporter": "python",
   "pygments_lexer": "ipython3",
   "version": "3.11.1"
  },
  "orig_nbformat": 4,
  "vscode": {
   "interpreter": {
    "hash": "0cfe8d43d630cbfb4ef4f4b691660dfb998dae24a2a066f401b9bcfe5f6db147"
   }
  }
 },
 "nbformat": 4,
 "nbformat_minor": 2
}
