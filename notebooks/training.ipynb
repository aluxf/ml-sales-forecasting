{
 "cells": [
  {
   "cell_type": "code",
   "execution_count": 55,
   "metadata": {},
   "outputs": [],
   "source": [
    "import pandas as pd\n",
    "from sklearn.model_selection import TimeSeriesSplit\n",
    "from sklearn.ensemble import RandomForestRegressor\n",
    "from sklearn.linear_model import LinearRegression\n",
    "from xgboost import XGBRegressor"
   ]
  },
  {
   "cell_type": "code",
   "execution_count": 3,
   "metadata": {},
   "outputs": [],
   "source": [
    "discard_df = pd.read_csv(\"../csv/datasets/complete_discard.csv\")\n",
    "average_df = pd.read_csv(\"../csv/datasets/complete_avg.csv\")\n",
    "predict_df = pd.read_csv(\"../csv/datasets/complete_pred.csv\")"
   ]
  },
  {
   "attachments": {},
   "cell_type": "markdown",
   "metadata": {},
   "source": [
    "# Random Forest Regression"
   ]
  },
  {
   "cell_type": "code",
   "execution_count": 57,
   "metadata": {},
   "outputs": [],
   "source": [
    "def rfr(df, n_splits):\n",
    "    tscv = TimeSeriesSplit(n_splits)\n",
    "\n",
    "    model = RandomForestRegressor(random_state=42)\n",
    "\n",
    "    df['Date'] = pd.to_datetime(df['Date']).values.astype(float)\n",
    "\n",
    "    X = df.drop(labels=['Sales'], axis=1)\n",
    "    y = df['Sales']\n",
    "\n",
    "    avg_score = []\n",
    "\n",
    "    for train_index, test_index in tscv.split(X):\n",
    "        X_train, X_test = X.iloc[train_index], X.iloc[test_index]\n",
    "        y_train, y_test = y.iloc[train_index], y.iloc[test_index]\n",
    "\n",
    "        model.fit(X_train, y_train)\n",
    "\n",
    "        y_pred = model.predict(X_test)\n",
    "\n",
    "        score = model.score(X_test, y_test)\n",
    "\n",
    "        avg_score.append(score)\n",
    "\n",
    "        # print(\"Score:\", score)\n",
    "\n",
    "    print('Avg Score:', sum(avg_score) / len(avg_score))\n"
   ]
  },
  {
   "cell_type": "code",
   "execution_count": 65,
   "metadata": {},
   "outputs": [
    {
     "name": "stdout",
     "output_type": "stream",
     "text": [
      "Avg Score: 0.799667461563672\n",
      "Avg Score: 0.8011692623053106\n",
      "Avg Score: 0.7933930177913372\n"
     ]
    }
   ],
   "source": [
    "splits = 12\n",
    "\n",
    "rfr(discard_df, splits)\n",
    "\n",
    "rfr(average_df, splits)\n",
    "\n",
    "rfr(predict_df, splits)"
   ]
  },
  {
   "attachments": {},
   "cell_type": "markdown",
   "metadata": {},
   "source": [
    "# Linear Regression"
   ]
  },
  {
   "cell_type": "code",
   "execution_count": 59,
   "metadata": {},
   "outputs": [],
   "source": [
    "def lin_reg(df, n_splits):\n",
    "    tscv = TimeSeriesSplit(n_splits)\n",
    "\n",
    "    model = LinearRegression()\n",
    "\n",
    "    df['Date'] = pd.to_datetime(df['Date']).values.astype(float)\n",
    "\n",
    "    X = df.drop(labels=['Sales'], axis=1)\n",
    "    y = df['Sales']\n",
    "\n",
    "    avg_score = []\n",
    "\n",
    "    for train_index, test_index in tscv.split(X):\n",
    "        X_train, X_test = X.iloc[train_index], X.iloc[test_index]\n",
    "        y_train, y_test = y.iloc[train_index], y.iloc[test_index]\n",
    "\n",
    "        model.fit(X_train, y_train)\n",
    "\n",
    "        y_pred = model.predict(X_test)\n",
    "\n",
    "        score = model.score(X_test, y_test)\n",
    "\n",
    "        avg_score.append(score)\n",
    "\n",
    "        # print(\"Score:\", score)\n",
    "\n",
    "    print('Avg Score:', sum(avg_score) / len(avg_score))"
   ]
  },
  {
   "cell_type": "code",
   "execution_count": 60,
   "metadata": {},
   "outputs": [
    {
     "name": "stdout",
     "output_type": "stream",
     "text": [
      "Avg Score: 0.7452236748362815\n",
      "Avg Score: 0.7479015232868174\n",
      "Avg Score: 0.7427895778682464\n"
     ]
    }
   ],
   "source": [
    "splits = 10\n",
    "\n",
    "lin_reg(discard_df, splits)\n",
    "\n",
    "lin_reg(average_df, splits)\n",
    "\n",
    "lin_reg(predict_df, splits)"
   ]
  },
  {
   "attachments": {},
   "cell_type": "markdown",
   "metadata": {},
   "source": [
    "# XGBoost Regressor"
   ]
  },
  {
   "cell_type": "code",
   "execution_count": 61,
   "metadata": {},
   "outputs": [],
   "source": [
    "def xgb_reg(df, n_splits):\n",
    "    tscv = TimeSeriesSplit(n_splits)\n",
    "\n",
    "    model = XGBRegressor(random_state=42)\n",
    "\n",
    "    df['Date'] = pd.to_datetime(df['Date']).values.astype(float)\n",
    "\n",
    "    X = df.drop(labels=['Sales'], axis=1)\n",
    "    y = df['Sales']\n",
    "\n",
    "    avg_score = []\n",
    "\n",
    "    for train_index, test_index in tscv.split(X):\n",
    "        X_train, X_test = X.iloc[train_index], X.iloc[test_index]\n",
    "        y_train, y_test = y.iloc[train_index], y.iloc[test_index]\n",
    "\n",
    "        model.fit(X_train, y_train)\n",
    "\n",
    "        y_pred = model.predict(X_test)\n",
    "\n",
    "        score = model.score(X_test, y_test)\n",
    "\n",
    "        avg_score.append(score)\n",
    "\n",
    "        # print(\"Score:\", score)\n",
    "\n",
    "    print('Avg Score:', sum(avg_score) / len(avg_score))"
   ]
  },
  {
   "cell_type": "code",
   "execution_count": 62,
   "metadata": {},
   "outputs": [
    {
     "name": "stdout",
     "output_type": "stream",
     "text": [
      "Avg Score: 0.8043508460254354\n",
      "Avg Score: 0.7885673679237818\n",
      "Avg Score: 0.7761244731651772\n"
     ]
    }
   ],
   "source": [
    "splits = 12\n",
    "\n",
    "xgb_reg(discard_df, splits)\n",
    "\n",
    "xgb_reg(average_df, splits)\n",
    "\n",
    "xgb_reg(predict_df, splits)"
   ]
  }
 ],
 "metadata": {
  "kernelspec": {
   "display_name": "Python 3",
   "language": "python",
   "name": "python3"
  },
  "language_info": {
   "codemirror_mode": {
    "name": "ipython",
    "version": 3
   },
   "file_extension": ".py",
   "mimetype": "text/x-python",
   "name": "python",
   "nbconvert_exporter": "python",
   "pygments_lexer": "ipython3",
   "version": "3.11.1"
  },
  "orig_nbformat": 4,
  "vscode": {
   "interpreter": {
    "hash": "0cfe8d43d630cbfb4ef4f4b691660dfb998dae24a2a066f401b9bcfe5f6db147"
   }
  }
 },
 "nbformat": 4,
 "nbformat_minor": 2
}
